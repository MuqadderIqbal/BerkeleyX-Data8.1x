{
 "cells": [
  {
   "cell_type": "code",
   "execution_count": 1,
   "metadata": {},
   "outputs": [],
   "source": [
    "from datascience import *\n",
    "import numpy as np\n",
    "\n",
    "%matplotlib inline\n",
    "import matplotlib.pyplot as plots\n",
    "plots.style.use('fivethirtyeight')"
   ]
  },
  {
   "cell_type": "markdown",
   "metadata": {},
   "source": [
    "## Arithmetic"
   ]
  },
  {
   "cell_type": "code",
   "execution_count": 2,
   "metadata": {},
   "outputs": [
    {
     "data": {
      "text/plain": [
       "5"
      ]
     },
     "execution_count": 2,
     "metadata": {},
     "output_type": "execute_result"
    }
   ],
   "source": [
    "2 + 3"
   ]
  },
  {
   "cell_type": "code",
   "execution_count": 3,
   "metadata": {},
   "outputs": [
    {
     "data": {
      "text/plain": [
       "6"
      ]
     },
     "execution_count": 3,
     "metadata": {},
     "output_type": "execute_result"
    }
   ],
   "source": [
    "2 * 3"
   ]
  },
  {
   "cell_type": "code",
   "execution_count": 4,
   "metadata": {},
   "outputs": [
    {
     "data": {
      "text/plain": [
       "8"
      ]
     },
     "execution_count": 4,
     "metadata": {},
     "output_type": "execute_result"
    }
   ],
   "source": [
    "2 ** 3"
   ]
  },
  {
   "cell_type": "code",
   "execution_count": 5,
   "metadata": {},
   "outputs": [
    {
     "ename": "SyntaxError",
     "evalue": "invalid syntax (<ipython-input-5-0f343c0fc354>, line 1)",
     "output_type": "error",
     "traceback": [
      "\u001b[0;36m  File \u001b[0;32m\"<ipython-input-5-0f343c0fc354>\"\u001b[0;36m, line \u001b[0;32m1\u001b[0m\n\u001b[0;31m    2 * * 3\u001b[0m\n\u001b[0m        ^\u001b[0m\n\u001b[0;31mSyntaxError\u001b[0m\u001b[0;31m:\u001b[0m invalid syntax\n"
     ]
    }
   ],
   "source": [
    "2 * * 3"
   ]
  },
  {
   "cell_type": "code",
   "execution_count": 6,
   "metadata": {},
   "outputs": [
    {
     "data": {
      "text/plain": [
       "80"
      ]
     },
     "execution_count": 6,
     "metadata": {},
     "output_type": "execute_result"
    }
   ],
   "source": [
    "10 * 2 ** 3"
   ]
  },
  {
   "cell_type": "code",
   "execution_count": 7,
   "metadata": {},
   "outputs": [
    {
     "data": {
      "text/plain": [
       "19"
      ]
     },
     "execution_count": 7,
     "metadata": {},
     "output_type": "execute_result"
    }
   ],
   "source": [
    "2 + 3 * 4 + 5"
   ]
  },
  {
   "cell_type": "code",
   "execution_count": 8,
   "metadata": {},
   "outputs": [
    {
     "data": {
      "text/plain": [
       "0.6666666666666666"
      ]
     },
     "execution_count": 8,
     "metadata": {},
     "output_type": "execute_result"
    }
   ],
   "source": [
    "2 / 3"
   ]
  },
  {
   "cell_type": "code",
   "execution_count": 9,
   "metadata": {},
   "outputs": [
    {
     "ename": "ZeroDivisionError",
     "evalue": "division by zero",
     "output_type": "error",
     "traceback": [
      "\u001b[0;31m---------------------------------------------------------------------------\u001b[0m",
      "\u001b[0;31mZeroDivisionError\u001b[0m                         Traceback (most recent call last)",
      "\u001b[0;32m<ipython-input-9-8b4ac6d3a3e1>\u001b[0m in \u001b[0;36m<module>\u001b[0;34m()\u001b[0m\n\u001b[0;32m----> 1\u001b[0;31m \u001b[0;36m2\u001b[0m \u001b[0;34m/\u001b[0m \u001b[0;36m0\u001b[0m\u001b[0;34m\u001b[0m\u001b[0m\n\u001b[0m",
      "\u001b[0;31mZeroDivisionError\u001b[0m: division by zero"
     ]
    }
   ],
   "source": [
    "2 / 0"
   ]
  },
  {
   "cell_type": "code",
   "execution_count": 10,
   "metadata": {},
   "outputs": [
    {
     "data": {
      "text/plain": [
       "0.0006666666666666666"
      ]
     },
     "execution_count": 10,
     "metadata": {},
     "output_type": "execute_result"
    }
   ],
   "source": [
    "2 / 3000"
   ]
  },
  {
   "cell_type": "code",
   "execution_count": 11,
   "metadata": {},
   "outputs": [
    {
     "data": {
      "text/plain": [
       "6.666666666666667e-07"
      ]
     },
     "execution_count": 11,
     "metadata": {},
     "output_type": "execute_result"
    }
   ],
   "source": [
    "2 / 3000000"
   ]
  },
  {
   "cell_type": "code",
   "execution_count": 12,
   "metadata": {},
   "outputs": [
    {
     "data": {
      "text/plain": [
       "0.0"
      ]
     },
     "execution_count": 12,
     "metadata": {},
     "output_type": "execute_result"
    }
   ],
   "source": [
    "0.6666666666666666 - 0.6666666666666666123456789"
   ]
  },
  {
   "cell_type": "code",
   "execution_count": 13,
   "metadata": {},
   "outputs": [
    {
     "data": {
      "text/plain": [
       "1.23456789e-16"
      ]
     },
     "execution_count": 13,
     "metadata": {},
     "output_type": "execute_result"
    }
   ],
   "source": [
    "0.000000000000000123456789"
   ]
  },
  {
   "cell_type": "code",
   "execution_count": 14,
   "metadata": {},
   "outputs": [
    {
     "data": {
      "text/plain": [
       "1.23456789e-70"
      ]
     },
     "execution_count": 14,
     "metadata": {},
     "output_type": "execute_result"
    }
   ],
   "source": [
    "0.000000000000000000000000000000000000000000000000000000000000000000000123456789"
   ]
  },
  {
   "cell_type": "code",
   "execution_count": 15,
   "metadata": {},
   "outputs": [
    {
     "data": {
      "text/plain": [
       "1.4142135623730951"
      ]
     },
     "execution_count": 15,
     "metadata": {},
     "output_type": "execute_result"
    }
   ],
   "source": [
    "2 ** 0.5"
   ]
  },
  {
   "cell_type": "code",
   "execution_count": 16,
   "metadata": {},
   "outputs": [
    {
     "data": {
      "text/plain": [
       "2.0000000000000004"
      ]
     },
     "execution_count": 16,
     "metadata": {},
     "output_type": "execute_result"
    }
   ],
   "source": [
    "2 ** 0.5 * 2 ** 0.5"
   ]
  },
  {
   "cell_type": "code",
   "execution_count": 17,
   "metadata": {},
   "outputs": [
    {
     "data": {
      "text/plain": [
       "4.440892098500626e-16"
      ]
     },
     "execution_count": 17,
     "metadata": {},
     "output_type": "execute_result"
    }
   ],
   "source": [
    "2 ** 0.5 * 2 ** 0.5 - 2"
   ]
  },
  {
   "cell_type": "markdown",
   "metadata": {},
   "source": [
    "## Growth"
   ]
  },
  {
   "cell_type": "code",
   "execution_count": 18,
   "metadata": {},
   "outputs": [
    {
     "data": {
      "text/plain": [
       "1.385792349726776"
      ]
     },
     "execution_count": 18,
     "metadata": {},
     "output_type": "execute_result"
    }
   ],
   "source": [
    "sept_7 = 4366\n",
    "aug_7 = 1830\n",
    "growth_per_month = (sept_7 / aug_7) - 1\n",
    "growth_per_month"
   ]
  },
  {
   "cell_type": "code",
   "execution_count": 19,
   "metadata": {},
   "outputs": [
    {
     "data": {
      "text/plain": [
       "148482554.67988718"
      ]
     },
     "execution_count": 19,
     "metadata": {},
     "output_type": "execute_result"
    }
   ],
   "source": [
    "sept_7 * (1 + growth_per_month) ** 12"
   ]
  },
  {
   "cell_type": "code",
   "execution_count": 20,
   "metadata": {},
   "outputs": [
    {
     "data": {
      "text/plain": [
       "1010000000000"
      ]
     },
     "execution_count": 20,
     "metadata": {},
     "output_type": "execute_result"
    }
   ],
   "source": [
    "fed_budget_2002 = 2370000000000\n",
    "fed_budget_2012 = 3380000000000\n",
    "fed_budget_2012 - fed_budget_2002"
   ]
  },
  {
   "cell_type": "code",
   "execution_count": 21,
   "metadata": {},
   "outputs": [
    {
     "data": {
      "text/plain": [
       "0.03613617208346853"
      ]
     },
     "execution_count": 21,
     "metadata": {},
     "output_type": "execute_result"
    }
   ],
   "source": [
    "g = (fed_budget_2012 / fed_budget_2002) ** (1/10) - 1\n",
    "g"
   ]
  },
  {
   "cell_type": "code",
   "execution_count": 22,
   "metadata": {},
   "outputs": [
    {
     "data": {
      "text/plain": [
       "4182324373087.768"
      ]
     },
     "execution_count": 22,
     "metadata": {},
     "output_type": "execute_result"
    }
   ],
   "source": [
    "fed_budget_2002 * (1 + g) ** 16 # Actual 2018 budget: $4.1 trillion"
   ]
  },
  {
   "cell_type": "markdown",
   "metadata": {},
   "source": [
    "## Arrays"
   ]
  },
  {
   "cell_type": "code",
   "execution_count": 23,
   "metadata": {},
   "outputs": [
    {
     "data": {
      "text/plain": [
       "array([1, 2, 3])"
      ]
     },
     "execution_count": 23,
     "metadata": {},
     "output_type": "execute_result"
    }
   ],
   "source": [
    "make_array(1, 2, 3)"
   ]
  },
  {
   "cell_type": "code",
   "execution_count": 24,
   "metadata": {},
   "outputs": [
    {
     "data": {
      "text/plain": [
       "array([2, 4, 6])"
      ]
     },
     "execution_count": 24,
     "metadata": {},
     "output_type": "execute_result"
    }
   ],
   "source": [
    "make_array(1, 2, 3) * 2"
   ]
  },
  {
   "cell_type": "code",
   "execution_count": 25,
   "metadata": {},
   "outputs": [],
   "source": [
    "a = make_array(1, 2, 3)"
   ]
  },
  {
   "cell_type": "code",
   "execution_count": 26,
   "metadata": {},
   "outputs": [
    {
     "data": {
      "text/plain": [
       "array([6, 7, 8])"
      ]
     },
     "execution_count": 26,
     "metadata": {},
     "output_type": "execute_result"
    }
   ],
   "source": [
    "a + 5"
   ]
  },
  {
   "cell_type": "code",
   "execution_count": 27,
   "metadata": {},
   "outputs": [
    {
     "data": {
      "text/plain": [
       "array([  11,  102, 1003])"
      ]
     },
     "execution_count": 27,
     "metadata": {},
     "output_type": "execute_result"
    }
   ],
   "source": [
    "a + make_array(10, 100, 1000)"
   ]
  },
  {
   "cell_type": "code",
   "execution_count": 28,
   "metadata": {},
   "outputs": [
    {
     "data": {
      "text/plain": [
       "array([1, 2, 3])"
      ]
     },
     "execution_count": 28,
     "metadata": {},
     "output_type": "execute_result"
    }
   ],
   "source": [
    "a"
   ]
  },
  {
   "cell_type": "code",
   "execution_count": 29,
   "metadata": {},
   "outputs": [
    {
     "data": {
      "text/plain": [
       "6"
      ]
     },
     "execution_count": 29,
     "metadata": {},
     "output_type": "execute_result"
    }
   ],
   "source": [
    "sum(a)"
   ]
  },
  {
   "cell_type": "code",
   "execution_count": 30,
   "metadata": {},
   "outputs": [
    {
     "data": {
      "text/plain": [
       "3"
      ]
     },
     "execution_count": 30,
     "metadata": {},
     "output_type": "execute_result"
    }
   ],
   "source": [
    "max(a)"
   ]
  },
  {
   "cell_type": "code",
   "execution_count": 31,
   "metadata": {},
   "outputs": [
    {
     "data": {
      "text/plain": [
       "1"
      ]
     },
     "execution_count": 31,
     "metadata": {},
     "output_type": "execute_result"
    }
   ],
   "source": [
    "min(a)"
   ]
  },
  {
   "cell_type": "code",
   "execution_count": 32,
   "metadata": {},
   "outputs": [
    {
     "data": {
      "text/plain": [
       "array([2.45564273e+12, 2.54438026e+12, 2.63632442e+12])"
      ]
     },
     "execution_count": 32,
     "metadata": {},
     "output_type": "execute_result"
    }
   ],
   "source": [
    "fed_budget_2002 * (1 + g) ** a"
   ]
  },
  {
   "cell_type": "markdown",
   "metadata": {},
   "source": [
    "## Columns"
   ]
  },
  {
   "cell_type": "code",
   "execution_count": 33,
   "metadata": {},
   "outputs": [
    {
     "data": {
      "text/html": [
       "<table border=\"1\" class=\"dataframe\">\n",
       "    <thead>\n",
       "        <tr>\n",
       "            <th>Title</th> <th>Studio</th> <th>Gross</th> <th>Gross (Adjusted)</th> <th>Year</th>\n",
       "        </tr>\n",
       "    </thead>\n",
       "    <tbody>\n",
       "        <tr>\n",
       "            <td>Gone with the Wind              </td> <td>MGM            </td> <td>198676459</td> <td>1796176700      </td> <td>1939</td>\n",
       "        </tr>\n",
       "    </tbody>\n",
       "        <tr>\n",
       "            <td>Star Wars                       </td> <td>Fox            </td> <td>460998007</td> <td>1583483200      </td> <td>1977</td>\n",
       "        </tr>\n",
       "    </tbody>\n",
       "        <tr>\n",
       "            <td>The Sound of Music              </td> <td>Fox            </td> <td>158671368</td> <td>1266072700      </td> <td>1965</td>\n",
       "        </tr>\n",
       "    </tbody>\n",
       "        <tr>\n",
       "            <td>E.T.: The Extra-Terrestrial     </td> <td>Universal      </td> <td>435110554</td> <td>1261085000      </td> <td>1982</td>\n",
       "        </tr>\n",
       "    </tbody>\n",
       "        <tr>\n",
       "            <td>Titanic                         </td> <td>Paramount      </td> <td>658672302</td> <td>1204368000      </td> <td>1997</td>\n",
       "        </tr>\n",
       "    </tbody>\n",
       "        <tr>\n",
       "            <td>The Ten Commandments            </td> <td>Paramount      </td> <td>65500000 </td> <td>1164590000      </td> <td>1956</td>\n",
       "        </tr>\n",
       "    </tbody>\n",
       "        <tr>\n",
       "            <td>Jaws                            </td> <td>Universal      </td> <td>260000000</td> <td>1138620700      </td> <td>1975</td>\n",
       "        </tr>\n",
       "    </tbody>\n",
       "        <tr>\n",
       "            <td>Doctor Zhivago                  </td> <td>MGM            </td> <td>111721910</td> <td>1103564200      </td> <td>1965</td>\n",
       "        </tr>\n",
       "    </tbody>\n",
       "        <tr>\n",
       "            <td>The Exorcist                    </td> <td>Warner Brothers</td> <td>232906145</td> <td>983226600       </td> <td>1973</td>\n",
       "        </tr>\n",
       "    </tbody>\n",
       "        <tr>\n",
       "            <td>Snow White and the Seven Dwarves</td> <td>Disney         </td> <td>184925486</td> <td>969010000       </td> <td>1937</td>\n",
       "        </tr>\n",
       "    </tbody>\n",
       "</table>\n",
       "<p>... (190 rows omitted)</p>"
      ],
      "text/plain": [
       "Title                            | Studio          | Gross     | Gross (Adjusted) | Year\n",
       "Gone with the Wind               | MGM             | 198676459 | 1796176700       | 1939\n",
       "Star Wars                        | Fox             | 460998007 | 1583483200       | 1977\n",
       "The Sound of Music               | Fox             | 158671368 | 1266072700       | 1965\n",
       "E.T.: The Extra-Terrestrial      | Universal       | 435110554 | 1261085000       | 1982\n",
       "Titanic                          | Paramount       | 658672302 | 1204368000       | 1997\n",
       "The Ten Commandments             | Paramount       | 65500000  | 1164590000       | 1956\n",
       "Jaws                             | Universal       | 260000000 | 1138620700       | 1975\n",
       "Doctor Zhivago                   | MGM             | 111721910 | 1103564200       | 1965\n",
       "The Exorcist                     | Warner Brothers | 232906145 | 983226600        | 1973\n",
       "Snow White and the Seven Dwarves | Disney          | 184925486 | 969010000        | 1937\n",
       "... (190 rows omitted)"
      ]
     },
     "execution_count": 33,
     "metadata": {},
     "output_type": "execute_result"
    }
   ],
   "source": [
    "# From http://www.boxofficemojo.com/alltime/adjusted.htm\n",
    "movies = Table.read_table('top_movies_2017.csv')\n",
    "movies"
   ]
  },
  {
   "cell_type": "code",
   "execution_count": 34,
   "metadata": {},
   "outputs": [
    {
     "data": {
      "text/plain": [
       "array([198676459, 460998007, 158671368, 435110554, 658672302,  65500000,\n",
       "       260000000, 111721910, 232906145, 184925486, 936662225, 144880014,\n",
       "       290475067,  74000000, 760507625, 309306177, 402453882, 474544677,\n",
       "       422783777, 156000000, 248159971, 104945305,  76408097, 652270625,\n",
       "       134966411, 330252182, 102272727, 188755690, 623357910,  63595658,\n",
       "       534858444, 141843612,  51600000, 242212467, 441226247, 102308889,\n",
       "       106397186, 403706375, 306169268, 285761243,  84254167,  57777778,\n",
       "       234760478,  51081062, 100489151, 115000000,  36000000, 423315812,\n",
       "        42000000, 102247150, 119601481, 251188924,  21333333, 377845905,\n",
       "       380843261, 116000000, 532177324,  93141149, 373585825,  36000000,\n",
       "        72000000, 141600000, 370782930, 380270577, 210609762, 342551365,\n",
       "       448139099, 293506292, 134218018, 177200000, 126737428, 504014165,\n",
       "       486295561,  43656822, 317575550,  93602326, 132088635,  44824144,\n",
       "       112892319, 117235147,  23650000,  84563118, 315544750, 241721524,\n",
       "       250690539,  27200000, 402111870,  46332858,  40356000, 108981275,\n",
       "        81600000, 179870271, 459005868, 310676740, 219195243, 217350219,\n",
       "       415004880, 217631306, 424668047,  20408163, 408010692, 305413918,\n",
       "        23750000,  36764313, 229086679, 197171806, 289916256, 400738009,\n",
       "       336530303, 409013994, 205396118,  16361885, 260044825, 179800601,\n",
       "       381011219, 245852179, 267665011, 322719944, 368061265, 408084349,\n",
       "       281576461, 319246193, 174803506,   9183673, 216540909, 406381596,\n",
       "        86273333,  87404651, 153083102, 218967620, 291710957, 290013036,\n",
       "       309420425, 261988482, 183875760,  21750000, 318412101, 352390543,\n",
       "       279261160, 317101119, 191796233, 389397196, 184208848, 129795554,\n",
       "        56954992, 172825435, 368384330,  56666667, 356461711, 350126372,\n",
       "       106260000, 201578182,  32000000, 125049125, 292004738, 150415432,\n",
       "       184031112, 363070709, 178406268,  79666653, 334191110, 261441092,\n",
       "       233632142, 173585516, 364001123, 167780960, 241438208, 333176600,\n",
       "       353007020, 180981856, 337135885, 336045770,  94213184, 119285432,\n",
       "       206040086, 301959197, 242829261, 249541069,  52223306, 215409889,\n",
       "       226164286, 173837933,  61749765, 156645693, 341268248, 181410615,\n",
       "       165493908, 153665036, 312433331, 293004164, 162831698, 227966634,\n",
       "       108185706, 296623634,  66000000, 103290500, 330360194, 158348367,\n",
       "       325100054, 156452370])"
      ]
     },
     "execution_count": 34,
     "metadata": {},
     "output_type": "execute_result"
    }
   ],
   "source": [
    "movies.column('Gross')"
   ]
  },
  {
   "cell_type": "code",
   "execution_count": 35,
   "metadata": {},
   "outputs": [
    {
     "data": {
      "text/plain": [
       "array([ 9.04071227,  3.43490249,  7.97921336,  2.89830938,  1.82847828,\n",
       "       17.78      ,  4.37931038,  9.87777778,  4.22155714,  5.24000245,\n",
       "        1.0261364 ,  6.13103475,  3.0048221 , 11.77324324,  1.13750615,\n",
       "        2.70343195,  2.03050893,  1.69188348,  1.8745083 ,  5.08      ,\n",
       "        3.17135393,  7.24928095,  9.6620192 ,  1.07738625,  5.19849046,\n",
       "        2.11621342,  6.79591148,  3.62508913,  1.09643912, 10.45624844,\n",
       "        1.23767421,  4.61786323, 12.52112597,  2.61231145,  1.43156194,\n",
       "        6.13103423,  5.84868382,  1.5301205 ,  2.0113067 ,  2.10720318,\n",
       "        7.11199958, 10.33720958,  2.54286286, 11.53865987,  5.8486841 ,\n",
       "        5.08      , 16.16363611,  1.35725192, 13.67692381,  5.53955489,\n",
       "        4.7006132 ,  2.22807037, 26.14705822,  1.45026555,  1.43761005,\n",
       "        4.70370345,  1.00967474,  5.75556245,  1.43156208, 14.81666667,\n",
       "        7.40833333,  3.76006003,  1.43150064,  1.38689536,  2.49257344,\n",
       "        1.49810467,  1.1422844 ,  1.74401168,  3.79914491,  2.8548307 ,\n",
       "        3.98654689,  1.        ,  1.02662956, 11.3974352 ,  1.56519102,\n",
       "        5.29349132,  3.74041718, 10.98425438,  4.33658556,  4.1737091 ,\n",
       "       20.6744186 ,  5.77176447,  1.54388752,  2.01131241,  1.936819  ,\n",
       "       17.78      ,  1.19165644, 10.33720821, 11.85333284,  4.37931012,\n",
       "        5.84868382,  2.64583301,  1.03670635,  1.52999771,  2.13674436,\n",
       "        2.14498289,  1.1182389 ,  2.10229773,  1.07003388, 22.22499889,\n",
       "        1.10824155,  1.47429005, 18.91489263, 12.17631076,  1.93681929,\n",
       "        2.22807007,  1.51336529,  1.0879295 ,  1.2921511 ,  1.0608593 ,\n",
       "        2.10862895, 26.14706068,  1.64459993,  2.3747924 ,  1.1197316 ,\n",
       "        1.72976584,  1.57067111,  1.29215101,  1.13266062,  1.01854923,\n",
       "        1.47429511,  1.29215104,  2.34972347, 44.45000383,  1.8781278 ,\n",
       "        1.        ,  4.70370375,  4.64040638,  2.64128695,  1.84174902,\n",
       "        1.37676179,  1.38479361,  1.29215129,  1.5241212 ,  2.14651513,\n",
       "       18.14285517,  1.23812725,  1.11660006,  1.40620414,  1.23816151,\n",
       "        2.03335276,  1.        ,  2.10894701,  2.99015943,  6.76431664,\n",
       "        2.22688981,  1.04430121,  6.78625937,  1.07705481,  1.09383706,\n",
       "        3.59919066,  1.8955226 , 11.8533375 ,  3.02235461,  1.29215095,\n",
       "        2.5042251 ,  2.04367835,  1.03556853,  2.10165486,  4.70370332,\n",
       "        1.1182389 ,  1.42917969,  1.5941274 ,  2.14328308,  1.01870125,\n",
       "        2.20970604,  1.52510741,  1.09872242,  1.03312818,  2.01131212,\n",
       "        1.07393522,  1.07708423,  3.8314818 ,  3.02463339,  1.75000024,\n",
       "        1.19151297,  1.47429514,  1.43156195,  6.81593578,  1.64935046,\n",
       "        1.57067151,  2.03830829,  5.73548418,  2.25197255,  1.03173443,\n",
       "        1.93681886,  2.11163906,  2.2736571 ,  1.11823889,  1.19160047,\n",
       "        2.1421689 ,  1.52999188,  3.19784205,  1.16615994,  5.22941212,\n",
       "        3.30483249,  1.02959438,  2.14734264,  1.0440229 ,  2.16301677])"
      ]
     },
     "execution_count": 35,
     "metadata": {},
     "output_type": "execute_result"
    }
   ],
   "source": [
    "adjustment = movies.column('Gross (Adjusted)') / movies.column('Gross')\n",
    "adjustment"
   ]
  },
  {
   "cell_type": "code",
   "execution_count": 36,
   "metadata": {},
   "outputs": [
    {
     "data": {
      "text/html": [
       "<table border=\"1\" class=\"dataframe\">\n",
       "    <thead>\n",
       "        <tr>\n",
       "            <th>Title</th> <th>Studio</th> <th>Gross</th> <th>Gross (Adjusted)</th> <th>Year</th> <th>Adjustment</th>\n",
       "        </tr>\n",
       "    </thead>\n",
       "    <tbody>\n",
       "        <tr>\n",
       "            <td>Gone with the Wind              </td> <td>MGM            </td> <td>198676459</td> <td>1796176700      </td> <td>1939</td> <td>9.04071   </td>\n",
       "        </tr>\n",
       "    </tbody>\n",
       "        <tr>\n",
       "            <td>Star Wars                       </td> <td>Fox            </td> <td>460998007</td> <td>1583483200      </td> <td>1977</td> <td>3.4349    </td>\n",
       "        </tr>\n",
       "    </tbody>\n",
       "        <tr>\n",
       "            <td>The Sound of Music              </td> <td>Fox            </td> <td>158671368</td> <td>1266072700      </td> <td>1965</td> <td>7.97921   </td>\n",
       "        </tr>\n",
       "    </tbody>\n",
       "        <tr>\n",
       "            <td>E.T.: The Extra-Terrestrial     </td> <td>Universal      </td> <td>435110554</td> <td>1261085000      </td> <td>1982</td> <td>2.89831   </td>\n",
       "        </tr>\n",
       "    </tbody>\n",
       "        <tr>\n",
       "            <td>Titanic                         </td> <td>Paramount      </td> <td>658672302</td> <td>1204368000      </td> <td>1997</td> <td>1.82848   </td>\n",
       "        </tr>\n",
       "    </tbody>\n",
       "        <tr>\n",
       "            <td>The Ten Commandments            </td> <td>Paramount      </td> <td>65500000 </td> <td>1164590000      </td> <td>1956</td> <td>17.78     </td>\n",
       "        </tr>\n",
       "    </tbody>\n",
       "        <tr>\n",
       "            <td>Jaws                            </td> <td>Universal      </td> <td>260000000</td> <td>1138620700      </td> <td>1975</td> <td>4.37931   </td>\n",
       "        </tr>\n",
       "    </tbody>\n",
       "        <tr>\n",
       "            <td>Doctor Zhivago                  </td> <td>MGM            </td> <td>111721910</td> <td>1103564200      </td> <td>1965</td> <td>9.87778   </td>\n",
       "        </tr>\n",
       "    </tbody>\n",
       "        <tr>\n",
       "            <td>The Exorcist                    </td> <td>Warner Brothers</td> <td>232906145</td> <td>983226600       </td> <td>1973</td> <td>4.22156   </td>\n",
       "        </tr>\n",
       "    </tbody>\n",
       "        <tr>\n",
       "            <td>Snow White and the Seven Dwarves</td> <td>Disney         </td> <td>184925486</td> <td>969010000       </td> <td>1937</td> <td>5.24      </td>\n",
       "        </tr>\n",
       "    </tbody>\n",
       "</table>\n",
       "<p>... (190 rows omitted)</p>"
      ],
      "text/plain": [
       "Title                            | Studio          | Gross     | Gross (Adjusted) | Year | Adjustment\n",
       "Gone with the Wind               | MGM             | 198676459 | 1796176700       | 1939 | 9.04071\n",
       "Star Wars                        | Fox             | 460998007 | 1583483200       | 1977 | 3.4349\n",
       "The Sound of Music               | Fox             | 158671368 | 1266072700       | 1965 | 7.97921\n",
       "E.T.: The Extra-Terrestrial      | Universal       | 435110554 | 1261085000       | 1982 | 2.89831\n",
       "Titanic                          | Paramount       | 658672302 | 1204368000       | 1997 | 1.82848\n",
       "The Ten Commandments             | Paramount       | 65500000  | 1164590000       | 1956 | 17.78\n",
       "Jaws                             | Universal       | 260000000 | 1138620700       | 1975 | 4.37931\n",
       "Doctor Zhivago                   | MGM             | 111721910 | 1103564200       | 1965 | 9.87778\n",
       "The Exorcist                     | Warner Brothers | 232906145 | 983226600        | 1973 | 4.22156\n",
       "Snow White and the Seven Dwarves | Disney          | 184925486 | 969010000        | 1937 | 5.24\n",
       "... (190 rows omitted)"
      ]
     },
     "execution_count": 36,
     "metadata": {},
     "output_type": "execute_result"
    }
   ],
   "source": [
    "movies.with_column('Adjustment', adjustment)"
   ]
  },
  {
   "cell_type": "code",
   "execution_count": 37,
   "metadata": {},
   "outputs": [
    {
     "data": {
      "image/png": "[encoded data removed]",
      "text/plain": [
       "<Figure size 360x360 with 1 Axes>"
      ]
     },
     "metadata": {},
     "output_type": "display_data"
    }
   ],
   "source": [
    "movies.with_column('Adjustment', adjustment).scatter('Year', 'Adjustment')"
   ]
  },
  {
   "cell_type": "code",
   "execution_count": 38,
   "metadata": {},
   "outputs": [
    {
     "data": {
      "text/plain": [
       "array([1939, 1977, 1965, 1982, 1997, 1956, 1975, 1965, 1973, 1937, 2015,\n",
       "       1961, 1980, 1959, 2009, 1983, 1993, 1999, 1994, 1973, 1981, 1967,\n",
       "       1941, 2015, 1972, 1994, 1964, 1978, 2012, 1965, 2008, 1967, 1959,\n",
       "       1984, 2004, 1969, 1970, 2002, 1996, 1990, 1940, 1963, 1984, 1964,\n",
       "       1970, 1973, 1953, 2006, 1956, 1942, 1974, 1989, 1945, 2003, 2003,\n",
       "       1974, 2016, 1950, 2004, 1952, 1964, 1978, 2004, 2005, 1985, 2002,\n",
       "       2012, 1999, 1978, 1982, 1977, 2017, 2016, 1961, 2001, 1955, 1977,\n",
       "       1962, 1975, 1976, 1946, 1972, 2001, 1996, 1997, 1957, 2009, 1963,\n",
       "       1960, 1975, 1970, 1984, 2015, 2002, 1993, 1992, 2010, 1990, 2013,\n",
       "       1946, 2012, 2003, 1953, 1954, 1997, 1989, 2001, 2013, 2007, 2013,\n",
       "       1991, 1941, 2000, 1986, 2011, 1999, 2001, 2007, 2013, 2016, 2003,\n",
       "       2007, 1986, 1921, 1998, 2017, 1974, 1953, 1984, 1991, 2005, 2005,\n",
       "       2007, 2002, 1993, 1954, 2008, 2011, 2004, 2008, 1995, 2017, 1990,\n",
       "       1982, 1968, 1988, 2016, 1967, 2015, 2014, 1979, 1998, 1960, 1982,\n",
       "       2007, 1985, 1995, 2016, 1990, 1974, 2010, 2004, 2000, 1992, 2016,\n",
       "       1987, 2002, 2014, 2015, 1996, 2014, 2015, 1977, 1981, 1999, 2009,\n",
       "       2003, 2004, 1968, 2000, 2001, 1995, 1970, 1987, 2016, 1997, 1991,\n",
       "       1987, 2010, 2009, 1992, 2002, 1981, 2009, 1972, 1980, 2016, 1993,\n",
       "       2016, 1988])"
      ]
     },
     "execution_count": 38,
     "metadata": {},
     "output_type": "execute_result"
    }
   ],
   "source": [
    "movies.column('Year')"
   ]
  },
  {
   "cell_type": "code",
   "execution_count": 39,
   "metadata": {},
   "outputs": [
    {
     "data": {
      "text/html": [
       "<table border=\"1\" class=\"dataframe\">\n",
       "    <thead>\n",
       "        <tr>\n",
       "            <th>Title</th> <th>Studio</th> <th>Gross</th> <th>Gross (Adjusted)</th> <th>Year</th> <th>Age</th>\n",
       "        </tr>\n",
       "    </thead>\n",
       "    <tbody>\n",
       "        <tr>\n",
       "            <td>Gone with the Wind              </td> <td>MGM            </td> <td>198676459</td> <td>1796176700      </td> <td>1939</td> <td>78  </td>\n",
       "        </tr>\n",
       "    </tbody>\n",
       "        <tr>\n",
       "            <td>Star Wars                       </td> <td>Fox            </td> <td>460998007</td> <td>1583483200      </td> <td>1977</td> <td>40  </td>\n",
       "        </tr>\n",
       "    </tbody>\n",
       "        <tr>\n",
       "            <td>The Sound of Music              </td> <td>Fox            </td> <td>158671368</td> <td>1266072700      </td> <td>1965</td> <td>52  </td>\n",
       "        </tr>\n",
       "    </tbody>\n",
       "        <tr>\n",
       "            <td>E.T.: The Extra-Terrestrial     </td> <td>Universal      </td> <td>435110554</td> <td>1261085000      </td> <td>1982</td> <td>35  </td>\n",
       "        </tr>\n",
       "    </tbody>\n",
       "        <tr>\n",
       "            <td>Titanic                         </td> <td>Paramount      </td> <td>658672302</td> <td>1204368000      </td> <td>1997</td> <td>20  </td>\n",
       "        </tr>\n",
       "    </tbody>\n",
       "        <tr>\n",
       "            <td>The Ten Commandments            </td> <td>Paramount      </td> <td>65500000 </td> <td>1164590000      </td> <td>1956</td> <td>61  </td>\n",
       "        </tr>\n",
       "    </tbody>\n",
       "        <tr>\n",
       "            <td>Jaws                            </td> <td>Universal      </td> <td>260000000</td> <td>1138620700      </td> <td>1975</td> <td>42  </td>\n",
       "        </tr>\n",
       "    </tbody>\n",
       "        <tr>\n",
       "            <td>Doctor Zhivago                  </td> <td>MGM            </td> <td>111721910</td> <td>1103564200      </td> <td>1965</td> <td>52  </td>\n",
       "        </tr>\n",
       "    </tbody>\n",
       "        <tr>\n",
       "            <td>The Exorcist                    </td> <td>Warner Brothers</td> <td>232906145</td> <td>983226600       </td> <td>1973</td> <td>44  </td>\n",
       "        </tr>\n",
       "    </tbody>\n",
       "        <tr>\n",
       "            <td>Snow White and the Seven Dwarves</td> <td>Disney         </td> <td>184925486</td> <td>969010000       </td> <td>1937</td> <td>80  </td>\n",
       "        </tr>\n",
       "    </tbody>\n",
       "</table>\n",
       "<p>... (190 rows omitted)</p>"
      ],
      "text/plain": [
       "Title                            | Studio          | Gross     | Gross (Adjusted) | Year | Age\n",
       "Gone with the Wind               | MGM             | 198676459 | 1796176700       | 1939 | 78\n",
       "Star Wars                        | Fox             | 460998007 | 1583483200       | 1977 | 40\n",
       "The Sound of Music               | Fox             | 158671368 | 1266072700       | 1965 | 52\n",
       "E.T.: The Extra-Terrestrial      | Universal       | 435110554 | 1261085000       | 1982 | 35\n",
       "Titanic                          | Paramount       | 658672302 | 1204368000       | 1997 | 20\n",
       "The Ten Commandments             | Paramount       | 65500000  | 1164590000       | 1956 | 61\n",
       "Jaws                             | Universal       | 260000000 | 1138620700       | 1975 | 42\n",
       "Doctor Zhivago                   | MGM             | 111721910 | 1103564200       | 1965 | 52\n",
       "The Exorcist                     | Warner Brothers | 232906145 | 983226600        | 1973 | 44\n",
       "Snow White and the Seven Dwarves | Disney          | 184925486 | 969010000        | 1937 | 80\n",
       "... (190 rows omitted)"
      ]
     },
     "execution_count": 39,
     "metadata": {},
     "output_type": "execute_result"
    }
   ],
   "source": [
    "age = 2017 - movies.column('Year')\n",
    "movies = movies.with_column('Age', age)\n",
    "movies"
   ]
  },
  {
   "cell_type": "code",
   "execution_count": 40,
   "metadata": {},
   "outputs": [
    {
     "name": "stderr",
     "output_type": "stream",
     "text": [
      "/usr/local/lib/python3.6/dist-packages/ipykernel_launcher.py:1: RuntimeWarning: divide by zero encountered in true_divide\n",
      "  \"\"\"Entry point for launching an IPython kernel.\n"
     ]
    },
    {
     "data": {
      "text/html": [
       "<table border=\"1\" class=\"dataframe\">\n",
       "    <thead>\n",
       "        <tr>\n",
       "            <th>Title</th> <th>Studio</th> <th>Gross</th> <th>Gross (Adjusted)</th> <th>Year</th> <th>Age</th> <th>Growth rate</th>\n",
       "        </tr>\n",
       "    </thead>\n",
       "    <tbody>\n",
       "        <tr>\n",
       "            <td>Gone with the Wind              </td> <td>MGM            </td> <td>198676459</td> <td>1796176700      </td> <td>1939</td> <td>78  </td> <td>0.0286296  </td>\n",
       "        </tr>\n",
       "    </tbody>\n",
       "        <tr>\n",
       "            <td>Star Wars                       </td> <td>Fox            </td> <td>460998007</td> <td>1583483200      </td> <td>1977</td> <td>40  </td> <td>0.0313305  </td>\n",
       "        </tr>\n",
       "    </tbody>\n",
       "        <tr>\n",
       "            <td>The Sound of Music              </td> <td>Fox            </td> <td>158671368</td> <td>1266072700      </td> <td>1965</td> <td>52  </td> <td>0.0407475  </td>\n",
       "        </tr>\n",
       "    </tbody>\n",
       "        <tr>\n",
       "            <td>E.T.: The Extra-Terrestrial     </td> <td>Universal      </td> <td>435110554</td> <td>1261085000      </td> <td>1982</td> <td>35  </td> <td>0.0308706  </td>\n",
       "        </tr>\n",
       "    </tbody>\n",
       "        <tr>\n",
       "            <td>Titanic                         </td> <td>Paramount      </td> <td>658672302</td> <td>1204368000      </td> <td>1997</td> <td>20  </td> <td>0.0306341  </td>\n",
       "        </tr>\n",
       "    </tbody>\n",
       "        <tr>\n",
       "            <td>The Ten Commandments            </td> <td>Paramount      </td> <td>65500000 </td> <td>1164590000      </td> <td>1956</td> <td>61  </td> <td>0.0483123  </td>\n",
       "        </tr>\n",
       "    </tbody>\n",
       "        <tr>\n",
       "            <td>Jaws                            </td> <td>Universal      </td> <td>260000000</td> <td>1138620700      </td> <td>1975</td> <td>42  </td> <td>0.0357896  </td>\n",
       "        </tr>\n",
       "    </tbody>\n",
       "        <tr>\n",
       "            <td>Doctor Zhivago                  </td> <td>MGM            </td> <td>111721910</td> <td>1103564200      </td> <td>1965</td> <td>52  </td> <td>0.0450283  </td>\n",
       "        </tr>\n",
       "    </tbody>\n",
       "        <tr>\n",
       "            <td>The Exorcist                    </td> <td>Warner Brothers</td> <td>232906145</td> <td>983226600       </td> <td>1973</td> <td>44  </td> <td>0.0332735  </td>\n",
       "        </tr>\n",
       "    </tbody>\n",
       "        <tr>\n",
       "            <td>Snow White and the Seven Dwarves</td> <td>Disney         </td> <td>184925486</td> <td>969010000       </td> <td>1937</td> <td>80  </td> <td>0.0209198  </td>\n",
       "        </tr>\n",
       "    </tbody>\n",
       "</table>\n",
       "<p>... (190 rows omitted)</p>"
      ],
      "text/plain": [
       "Title                            | Studio          | Gross     | Gross (Adjusted) | Year | Age  | Growth rate\n",
       "Gone with the Wind               | MGM             | 198676459 | 1796176700       | 1939 | 78   | 0.0286296\n",
       "Star Wars                        | Fox             | 460998007 | 1583483200       | 1977 | 40   | 0.0313305\n",
       "The Sound of Music               | Fox             | 158671368 | 1266072700       | 1965 | 52   | 0.0407475\n",
       "E.T.: The Extra-Terrestrial      | Universal       | 435110554 | 1261085000       | 1982 | 35   | 0.0308706\n",
       "Titanic                          | Paramount       | 658672302 | 1204368000       | 1997 | 20   | 0.0306341\n",
       "The Ten Commandments             | Paramount       | 65500000  | 1164590000       | 1956 | 61   | 0.0483123\n",
       "Jaws                             | Universal       | 260000000 | 1138620700       | 1975 | 42   | 0.0357896\n",
       "Doctor Zhivago                   | MGM             | 111721910 | 1103564200       | 1965 | 52   | 0.0450283\n",
       "The Exorcist                     | Warner Brothers | 232906145 | 983226600        | 1973 | 44   | 0.0332735\n",
       "Snow White and the Seven Dwarves | Disney          | 184925486 | 969010000        | 1937 | 80   | 0.0209198\n",
       "... (190 rows omitted)"
      ]
     },
     "execution_count": 40,
     "metadata": {},
     "output_type": "execute_result"
    }
   ],
   "source": [
    "movies = movies.with_column('Growth rate', adjustment ** (1 / age) - 1)\n",
    "movies"
   ]
  },
  {
   "cell_type": "code",
   "execution_count": 41,
   "metadata": {
    "scrolled": false
   },
   "outputs": [
    {
     "data": {
      "image/png": "[encoded data removed]",
      "text/plain": [
       "<Figure size 360x360 with 1 Axes>"
      ]
     },
     "metadata": {},
     "output_type": "display_data"
    }
   ],
   "source": [
    "movies.scatter('Year', 'Growth rate')"
   ]
  },
  {
   "cell_type": "code",
   "execution_count": 42,
   "metadata": {},
   "outputs": [
    {
     "data": {
      "text/html": [
       "<table border=\"1\" class=\"dataframe\">\n",
       "    <thead>\n",
       "        <tr>\n",
       "            <th>Title</th> <th>Studio</th> <th>Gross</th> <th>Gross (Adjusted)</th> <th>Year</th> <th>Age</th> <th>Growth rate</th>\n",
       "        </tr>\n",
       "    </thead>\n",
       "    <tbody>\n",
       "        <tr>\n",
       "            <td>Beauty and the Beast (2017)        </td> <td>Buena Vista    </td> <td>504014165</td> <td>504014165       </td> <td>2017</td> <td>0   </td> <td>0          </td>\n",
       "        </tr>\n",
       "    </tbody>\n",
       "        <tr>\n",
       "            <td>Wonder Woman                       </td> <td>Warner Brothers</td> <td>406381596</td> <td>406381596       </td> <td>2017</td> <td>0   </td> <td>0          </td>\n",
       "        </tr>\n",
       "    </tbody>\n",
       "        <tr>\n",
       "            <td>Guardians of the Galaxy Vol. 2     </td> <td>Buena Vista    </td> <td>389397196</td> <td>389397196       </td> <td>2017</td> <td>0   </td> <td>0          </td>\n",
       "        </tr>\n",
       "    </tbody>\n",
       "        <tr>\n",
       "            <td>Rogue One: A Star Wars Story       </td> <td>Buena Vista    </td> <td>532177324</td> <td>537326000       </td> <td>2016</td> <td>1   </td> <td>0.00967474 </td>\n",
       "        </tr>\n",
       "    </tbody>\n",
       "        <tr>\n",
       "            <td>Finding Dory                       </td> <td>Buena Vista    </td> <td>486295561</td> <td>499245400       </td> <td>2016</td> <td>1   </td> <td>0.0266296  </td>\n",
       "        </tr>\n",
       "    </tbody>\n",
       "        <tr>\n",
       "            <td>Captain America: Civil War         </td> <td>Buena Vista    </td> <td>408084349</td> <td>415654000       </td> <td>2016</td> <td>1   </td> <td>0.0185492  </td>\n",
       "        </tr>\n",
       "    </tbody>\n",
       "        <tr>\n",
       "            <td>The Secret Life of Pets            </td> <td>Universal      </td> <td>368384330</td> <td>384704200       </td> <td>2016</td> <td>1   </td> <td>0.0443012  </td>\n",
       "        </tr>\n",
       "    </tbody>\n",
       "        <tr>\n",
       "            <td>Deadpool                           </td> <td>Fox            </td> <td>363070709</td> <td>375984600       </td> <td>2016</td> <td>1   </td> <td>0.0355685  </td>\n",
       "        </tr>\n",
       "    </tbody>\n",
       "        <tr>\n",
       "            <td>The Jungle Book (2016)             </td> <td>Buena Vista    </td> <td>364001123</td> <td>370808400       </td> <td>2016</td> <td>1   </td> <td>0.0187013  </td>\n",
       "        </tr>\n",
       "    </tbody>\n",
       "        <tr>\n",
       "            <td>Zootopia                           </td> <td>Buena Vista    </td> <td>341268248</td> <td>352098200       </td> <td>2016</td> <td>1   </td> <td>0.0317344  </td>\n",
       "        </tr>\n",
       "    </tbody>\n",
       "        <tr>\n",
       "            <td>Batman v Superman: Dawn of Justice </td> <td>Warner Brothers</td> <td>330360194</td> <td>340137000       </td> <td>2016</td> <td>1   </td> <td>0.0295944  </td>\n",
       "        </tr>\n",
       "    </tbody>\n",
       "        <tr>\n",
       "            <td>Suicide Squad                      </td> <td>Warner Brothers</td> <td>325100054</td> <td>339411900       </td> <td>2016</td> <td>1   </td> <td>0.0440229  </td>\n",
       "        </tr>\n",
       "    </tbody>\n",
       "        <tr>\n",
       "            <td>Star Wars: The Force Awakens       </td> <td>Buena Vista    </td> <td>936662225</td> <td>961143200       </td> <td>2015</td> <td>2   </td> <td>0.0129839  </td>\n",
       "        </tr>\n",
       "    </tbody>\n",
       "        <tr>\n",
       "            <td>Jurassic World                     </td> <td>Universal      </td> <td>652270625</td> <td>702747400       </td> <td>2015</td> <td>2   </td> <td>0.0379722  </td>\n",
       "        </tr>\n",
       "    </tbody>\n",
       "        <tr>\n",
       "            <td>Avengers: Age of Ultron            </td> <td>Buena Vista    </td> <td>459005868</td> <td>475854300       </td> <td>2015</td> <td>2   </td> <td>0.0181878  </td>\n",
       "        </tr>\n",
       "    </tbody>\n",
       "        <tr>\n",
       "            <td>Inside Out                         </td> <td>Buena Vista    </td> <td>356461711</td> <td>383928800       </td> <td>2015</td> <td>2   </td> <td>0.0378125  </td>\n",
       "        </tr>\n",
       "    </tbody>\n",
       "        <tr>\n",
       "            <td>Furious 7                          </td> <td>Universal      </td> <td>353007020</td> <td>364701500       </td> <td>2015</td> <td>2   </td> <td>0.0164291  </td>\n",
       "        </tr>\n",
       "    </tbody>\n",
       "        <tr>\n",
       "            <td>Minions                            </td> <td>Universal      </td> <td>336045770</td> <td>361949600       </td> <td>2015</td> <td>2   </td> <td>0.0378267  </td>\n",
       "        </tr>\n",
       "    </tbody>\n",
       "        <tr>\n",
       "            <td>American Sniper                    </td> <td>Warner Brothers</td> <td>350126372</td> <td>382981200       </td> <td>2014</td> <td>3   </td> <td>0.0303487  </td>\n",
       "        </tr>\n",
       "    </tbody>\n",
       "        <tr>\n",
       "            <td>GUnited Artistsrdians of the Galaxy</td> <td>Buena Vista    </td> <td>333176600</td> <td>366068600       </td> <td>2014</td> <td>3   </td> <td>0.0318803  </td>\n",
       "        </tr>\n",
       "    </tbody>\n",
       "</table>\n",
       "<p>... (180 rows omitted)</p>"
      ],
      "text/plain": [
       "<IPython.core.display.HTML object>"
      ]
     },
     "metadata": {},
     "output_type": "display_data"
    }
   ],
   "source": [
    "movies.sort('Age').show(20)"
   ]
  },
  {
   "cell_type": "code",
   "execution_count": 43,
   "metadata": {},
   "outputs": [
    {
     "data": {
      "text/html": [
       "<table border=\"1\" class=\"dataframe\">\n",
       "    <thead>\n",
       "        <tr>\n",
       "            <th>Title</th> <th>Studio</th> <th>Gross</th> <th>Gross (Adjusted)</th> <th>Year</th> <th>Age</th> <th>Growth rate</th>\n",
       "        </tr>\n",
       "    </thead>\n",
       "    <tbody>\n",
       "        <tr>\n",
       "            <td>The Four Horsemen of the Apocalypse</td> <td>Metro          </td> <td>9183673  </td> <td>408214300       </td> <td>1921</td> <td>96  </td> <td>0.0403161  </td>\n",
       "        </tr>\n",
       "    </tbody>\n",
       "        <tr>\n",
       "            <td>Snow White and the Seven Dwarves   </td> <td>Disney         </td> <td>184925486</td> <td>969010000       </td> <td>1937</td> <td>80  </td> <td>0.0209198  </td>\n",
       "        </tr>\n",
       "    </tbody>\n",
       "        <tr>\n",
       "            <td>Gone with the Wind                 </td> <td>MGM            </td> <td>198676459</td> <td>1796176700      </td> <td>1939</td> <td>78  </td> <td>0.0286296  </td>\n",
       "        </tr>\n",
       "    </tbody>\n",
       "        <tr>\n",
       "            <td>Pinocchio                          </td> <td>Disney         </td> <td>84254167 </td> <td>599215600       </td> <td>1940</td> <td>77  </td> <td>0.025805   </td>\n",
       "        </tr>\n",
       "    </tbody>\n",
       "        <tr>\n",
       "            <td>Fantasia                           </td> <td>Disney         </td> <td>76408097 </td> <td>738256500       </td> <td>1941</td> <td>76  </td> <td>0.0302946  </td>\n",
       "        </tr>\n",
       "    </tbody>\n",
       "        <tr>\n",
       "            <td>Sergeant York                      </td> <td>Warner Brothers</td> <td>16361885 </td> <td>427815200       </td> <td>1941</td> <td>76  </td> <td>0.0438793  </td>\n",
       "        </tr>\n",
       "    </tbody>\n",
       "        <tr>\n",
       "            <td>Bambi                              </td> <td>RKO            </td> <td>102247150</td> <td>566403700       </td> <td>1942</td> <td>75  </td> <td>0.023088   </td>\n",
       "        </tr>\n",
       "    </tbody>\n",
       "        <tr>\n",
       "            <td>The Bells of St. Mary's            </td> <td>RKO            </td> <td>21333333 </td> <td>557803900       </td> <td>1945</td> <td>72  </td> <td>0.0463728  </td>\n",
       "        </tr>\n",
       "    </tbody>\n",
       "        <tr>\n",
       "            <td>The Best Years of Our Lives        </td> <td>RKO            </td> <td>23650000 </td> <td>488950000       </td> <td>1946</td> <td>71  </td> <td>0.0435836  </td>\n",
       "        </tr>\n",
       "    </tbody>\n",
       "        <tr>\n",
       "            <td>Duel in the Sun                    </td> <td>Selz.          </td> <td>20408163 </td> <td>453571400       </td> <td>1946</td> <td>71  </td> <td>0.0446471  </td>\n",
       "        </tr>\n",
       "    </tbody>\n",
       "        <tr>\n",
       "            <td>Cinderella (1950)                  </td> <td>Disney         </td> <td>93141149 </td> <td>536079700       </td> <td>1950</td> <td>67  </td> <td>0.0264661  </td>\n",
       "        </tr>\n",
       "    </tbody>\n",
       "        <tr>\n",
       "            <td>The Greatest Showman on Earth      </td> <td>Paramount      </td> <td>36000000 </td> <td>533400000       </td> <td>1952</td> <td>65  </td> <td>0.0423451  </td>\n",
       "        </tr>\n",
       "    </tbody>\n",
       "        <tr>\n",
       "            <td>The Robe                           </td> <td>Fox            </td> <td>36000000 </td> <td>581890900       </td> <td>1953</td> <td>64  </td> <td>0.0444398  </td>\n",
       "        </tr>\n",
       "    </tbody>\n",
       "        <tr>\n",
       "            <td>House of Wax                       </td> <td>Warner Brothers</td> <td>23750000 </td> <td>449228700       </td> <td>1953</td> <td>64  </td> <td>0.0470081  </td>\n",
       "        </tr>\n",
       "    </tbody>\n",
       "        <tr>\n",
       "            <td>Peter Pan                          </td> <td>Disney         </td> <td>87404651 </td> <td>405593100       </td> <td>1953</td> <td>64  </td> <td>0.0242711  </td>\n",
       "        </tr>\n",
       "    </tbody>\n",
       "        <tr>\n",
       "            <td>Rear Window                        </td> <td>Paramount      </td> <td>36764313 </td> <td>447653700       </td> <td>1954</td> <td>63  </td> <td>0.040472   </td>\n",
       "        </tr>\n",
       "    </tbody>\n",
       "        <tr>\n",
       "            <td>The Caine Mutiny                   </td> <td>Columbia       </td> <td>21750000 </td> <td>394607100       </td> <td>1954</td> <td>63  </td> <td>0.047079   </td>\n",
       "        </tr>\n",
       "    </tbody>\n",
       "        <tr>\n",
       "            <td>Lady and the Tramp                 </td> <td>Disney         </td> <td>93602326 </td> <td>495483100       </td> <td>1955</td> <td>62  </td> <td>0.0272432  </td>\n",
       "        </tr>\n",
       "    </tbody>\n",
       "        <tr>\n",
       "            <td>The Ten Commandments               </td> <td>Paramount      </td> <td>65500000 </td> <td>1164590000      </td> <td>1956</td> <td>61  </td> <td>0.0483123  </td>\n",
       "        </tr>\n",
       "    </tbody>\n",
       "        <tr>\n",
       "            <td>Around the World in 80 Days        </td> <td>United Artists </td> <td>42000000 </td> <td>574430800       </td> <td>1956</td> <td>61  </td> <td>0.0438131  </td>\n",
       "        </tr>\n",
       "    </tbody>\n",
       "</table>\n",
       "<p>... (180 rows omitted)</p>"
      ],
      "text/plain": [
       "<IPython.core.display.HTML object>"
      ]
     },
     "metadata": {},
     "output_type": "display_data"
    }
   ],
   "source": [
    "movies.sort('Year').show(20)"
   ]
  },
  {
   "cell_type": "code",
   "execution_count": 44,
   "metadata": {},
   "outputs": [],
   "source": [
    "# http://www.boxofficemojo.com/about/adjuster.htm"
   ]
  },
  {
   "cell_type": "code",
   "execution_count": null,
   "metadata": {},
   "outputs": [],
   "source": []
  }
 ],
 "metadata": {
  "kernelspec": {
   "display_name": "Python 3",
   "language": "python",
   "name": "python3"
  },
  "language_info": {
   "codemirror_mode": {
    "name": "ipython",
    "version": 3
   },
   "file_extension": ".py",
   "mimetype": "text/x-python",
   "name": "python",
   "nbconvert_exporter": "python",
   "pygments_lexer": "ipython3",
   "version": "3.6.3"
  }
 },
 "nbformat": 4,
 "nbformat_minor": 1
}
